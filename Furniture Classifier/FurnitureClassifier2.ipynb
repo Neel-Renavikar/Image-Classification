{
 "cells": [
  {
   "cell_type": "code",
   "execution_count": 1,
   "metadata": {},
   "outputs": [],
   "source": [
    "import numpy as np\n",
    "import matplotlib.pyplot as plt\n",
    "import os\n",
    "import shutil\n",
    "from glob import glob"
   ]
  },
  {
   "cell_type": "code",
   "execution_count": 2,
   "metadata": {},
   "outputs": [
    {
     "name": "stderr",
     "output_type": "stream",
     "text": [
      "/home/neelr/anaconda3/lib/python3.6/site-packages/h5py/__init__.py:36: FutureWarning: Conversion of the second argument of issubdtype from `float` to `np.floating` is deprecated. In future, it will be treated as `np.float64 == np.dtype(float).type`.\n",
      "  from ._conv import register_converters as _register_converters\n",
      "Using TensorFlow backend.\n"
     ]
    }
   ],
   "source": [
    "from keras.preprocessing.image import ImageDataGenerator, array_to_img, img_to_array, load_img "
   ]
  },
  {
   "cell_type": "code",
   "execution_count": 3,
   "metadata": {},
   "outputs": [
    {
     "name": "stdout",
     "output_type": "stream",
     "text": [
      "8\n"
     ]
    }
   ],
   "source": [
    "cwd = os.getcwd()\n",
    "source = cwd + \"/data/complete\"\n",
    "dest_train = cwd + \"/data/train\"\n",
    "dest_val = cwd + \"/data/val\"\n",
    "labels = os.listdir(source)\n",
    "print(len(labels))"
   ]
  },
  {
   "cell_type": "code",
   "execution_count": 4,
   "metadata": {},
   "outputs": [],
   "source": [
    "class_names = glob(source)\n",
    "class_names = sorted(class_names)"
   ]
  },
  {
   "cell_type": "code",
   "execution_count": 4,
   "metadata": {},
   "outputs": [
    {
     "ename": "FileExistsError",
     "evalue": "[Errno 17] File exists: '/media/neelr/Personal/Neel/EDrive/BITS/SEM VIII/NNFL/Lab/LabIBM/data/train/bed'",
     "output_type": "error",
     "traceback": [
      "\u001b[0;31m---------------------------------------------------------------------------\u001b[0m",
      "\u001b[0;31mFileExistsError\u001b[0m                           Traceback (most recent call last)",
      "\u001b[0;32m<ipython-input-4-517a013db6a7>\u001b[0m in \u001b[0;36m<module>\u001b[0;34m()\u001b[0m\n\u001b[1;32m      1\u001b[0m \u001b[0;32mfor\u001b[0m \u001b[0mlabel\u001b[0m \u001b[0;32min\u001b[0m \u001b[0mlabels\u001b[0m\u001b[0;34m:\u001b[0m\u001b[0;34m\u001b[0m\u001b[0m\n\u001b[1;32m      2\u001b[0m     \u001b[0mfiles\u001b[0m \u001b[0;34m=\u001b[0m \u001b[0mos\u001b[0m\u001b[0;34m.\u001b[0m\u001b[0mlistdir\u001b[0m\u001b[0;34m(\u001b[0m\u001b[0msource\u001b[0m \u001b[0;34m+\u001b[0m \u001b[0;34m'/'\u001b[0m \u001b[0;34m+\u001b[0m \u001b[0mlabel\u001b[0m\u001b[0;34m)\u001b[0m\u001b[0;34m\u001b[0m\u001b[0m\n\u001b[0;32m----> 3\u001b[0;31m     \u001b[0mos\u001b[0m\u001b[0;34m.\u001b[0m\u001b[0mmkdir\u001b[0m\u001b[0;34m(\u001b[0m\u001b[0mdest_train\u001b[0m \u001b[0;34m+\u001b[0m \u001b[0;34m'/'\u001b[0m \u001b[0;34m+\u001b[0m \u001b[0mlabel\u001b[0m\u001b[0;34m)\u001b[0m\u001b[0;34m\u001b[0m\u001b[0m\n\u001b[0m\u001b[1;32m      4\u001b[0m     \u001b[0mos\u001b[0m\u001b[0;34m.\u001b[0m\u001b[0mmkdir\u001b[0m\u001b[0;34m(\u001b[0m\u001b[0mdest_val\u001b[0m \u001b[0;34m+\u001b[0m \u001b[0;34m'/'\u001b[0m \u001b[0;34m+\u001b[0m \u001b[0mlabel\u001b[0m\u001b[0;34m)\u001b[0m\u001b[0;34m\u001b[0m\u001b[0m\n\u001b[1;32m      5\u001b[0m     \u001b[0;32mfor\u001b[0m \u001b[0mf\u001b[0m \u001b[0;32min\u001b[0m \u001b[0mfiles\u001b[0m\u001b[0;34m:\u001b[0m\u001b[0;34m\u001b[0m\u001b[0m\n",
      "\u001b[0;31mFileExistsError\u001b[0m: [Errno 17] File exists: '/media/neelr/Personal/Neel/EDrive/BITS/SEM VIII/NNFL/Lab/LabIBM/data/train/bed'"
     ]
    }
   ],
   "source": [
    "for label in labels:\n",
    "    files = os.listdir(source + '/' + label)\n",
    "    os.mkdir(dest_train + '/' + label)\n",
    "    os.mkdir(dest_val + '/' + label)\n",
    "    for f in files:\n",
    "        if np.random.rand(1) > 0.2:\n",
    "            shutil.copy(source + '/' + label + '/' + f, dest_train + '/' + label + '/' + f)\n",
    "        else:\n",
    "            shutil.copy(source + '/' + label + '/' + f, dest_val + '/' + label + '/' + f)"
   ]
  },
  {
   "cell_type": "code",
   "execution_count": 5,
   "metadata": {},
   "outputs": [],
   "source": [
    "from keras.models import Sequential\n",
    "from keras.layers import Conv2D, MaxPooling2D, Activation, Dropout, Flatten, Dense"
   ]
  },
  {
   "cell_type": "code",
   "execution_count": 6,
   "metadata": {},
   "outputs": [],
   "source": [
    "model = Sequential()\n",
    "\n",
    "model.add(Conv2D(64, (3, 3), input_shape=(180, 180, 3)))\n",
    "model.add(Activation('relu'))\n",
    "model.add(MaxPooling2D(pool_size=(2, 2)))\n",
    "\n",
    "model.add(Conv2D(64, (3, 3)))\n",
    "model.add(Activation('relu'))\n",
    "model.add(MaxPooling2D(pool_size=(2, 2)))\n",
    "\n",
    "model.add(Conv2D(128, (3, 3)))\n",
    "model.add(Activation('relu'))\n",
    "model.add(MaxPooling2D(pool_size=(2, 2)))\n",
    "\n",
    "model.add(Conv2D(128, (3, 3)))\n",
    "model.add(Activation('relu'))\n",
    "model.add(MaxPooling2D(pool_size=(2, 2)))\n",
    "\n",
    "model.add(Flatten())  \n",
    "model.add(Dense(128))\n",
    "model.add(Activation('relu'))\n",
    "model.add(Dropout(0.5))\n",
    "model.add(Dense(8))\n",
    "model.add(Activation('sigmoid'))\n",
    "\n",
    "model.compile(loss='categorical_crossentropy',\n",
    "              optimizer='adam',\n",
    "              metrics=['categorical_accuracy'])"
   ]
  },
  {
   "cell_type": "code",
   "execution_count": 7,
   "metadata": {
    "scrolled": false
   },
   "outputs": [
    {
     "name": "stdout",
     "output_type": "stream",
     "text": [
      "_________________________________________________________________\n",
      "Layer (type)                 Output Shape              Param #   \n",
      "=================================================================\n",
      "conv2d_1 (Conv2D)            (None, 178, 178, 64)      1792      \n",
      "_________________________________________________________________\n",
      "activation_1 (Activation)    (None, 178, 178, 64)      0         \n",
      "_________________________________________________________________\n",
      "max_pooling2d_1 (MaxPooling2 (None, 89, 89, 64)        0         \n",
      "_________________________________________________________________\n",
      "conv2d_2 (Conv2D)            (None, 87, 87, 64)        36928     \n",
      "_________________________________________________________________\n",
      "activation_2 (Activation)    (None, 87, 87, 64)        0         \n",
      "_________________________________________________________________\n",
      "max_pooling2d_2 (MaxPooling2 (None, 43, 43, 64)        0         \n",
      "_________________________________________________________________\n",
      "conv2d_3 (Conv2D)            (None, 41, 41, 128)       73856     \n",
      "_________________________________________________________________\n",
      "activation_3 (Activation)    (None, 41, 41, 128)       0         \n",
      "_________________________________________________________________\n",
      "max_pooling2d_3 (MaxPooling2 (None, 20, 20, 128)       0         \n",
      "_________________________________________________________________\n",
      "conv2d_4 (Conv2D)            (None, 18, 18, 128)       147584    \n",
      "_________________________________________________________________\n",
      "activation_4 (Activation)    (None, 18, 18, 128)       0         \n",
      "_________________________________________________________________\n",
      "max_pooling2d_4 (MaxPooling2 (None, 9, 9, 128)         0         \n",
      "_________________________________________________________________\n",
      "flatten_1 (Flatten)          (None, 10368)             0         \n",
      "_________________________________________________________________\n",
      "dense_1 (Dense)              (None, 128)               1327232   \n",
      "_________________________________________________________________\n",
      "activation_5 (Activation)    (None, 128)               0         \n",
      "_________________________________________________________________\n",
      "dropout_1 (Dropout)          (None, 128)               0         \n",
      "_________________________________________________________________\n",
      "dense_2 (Dense)              (None, 8)                 1032      \n",
      "_________________________________________________________________\n",
      "activation_6 (Activation)    (None, 8)                 0         \n",
      "=================================================================\n",
      "Total params: 1,588,424\n",
      "Trainable params: 1,588,424\n",
      "Non-trainable params: 0\n",
      "_________________________________________________________________\n",
      "None\n"
     ]
    }
   ],
   "source": [
    "print(model.summary())"
   ]
  },
  {
   "cell_type": "code",
   "execution_count": 8,
   "metadata": {},
   "outputs": [],
   "source": [
    "train_datagen = ImageDataGenerator(\n",
    "    rescale = 1/255,\n",
    "    shear_range = 0.2, \n",
    "    zoom_range = 0.2,\n",
    "    horizontal_flip = True)\n",
    "\n",
    "val_datagen = ImageDataGenerator(\n",
    "    rescale = 1/255, \n",
    "    shear_range = 0.2, \n",
    "    zoom_range = 0.2,\n",
    "    horizontal_flip = True)"
   ]
  },
  {
   "cell_type": "code",
   "execution_count": 9,
   "metadata": {},
   "outputs": [
    {
     "name": "stdout",
     "output_type": "stream",
     "text": [
      "Found 3048 images belonging to 8 classes.\n",
      "Found 784 images belonging to 8 classes.\n"
     ]
    }
   ],
   "source": [
    "train_generator = train_datagen.flow_from_directory(\n",
    "    dest_train,\n",
    "    target_size = (180, 180),\n",
    "    batch_size = 16,\n",
    "    class_mode = 'categorical')\n",
    "\n",
    "validation_generator = val_datagen.flow_from_directory(\n",
    "    dest_val,\n",
    "    target_size = (180,180),\n",
    "    batch_size = 16,\n",
    "    class_mode = 'categorical')"
   ]
  },
  {
   "cell_type": "code",
   "execution_count": 10,
   "metadata": {},
   "outputs": [],
   "source": [
    "name_id_map = dict(zip(class_names, range(len(class_names))))"
   ]
  },
  {
   "cell_type": "code",
   "execution_count": 11,
   "metadata": {
    "scrolled": false
   },
   "outputs": [
    {
     "name": "stdout",
     "output_type": "stream",
     "text": [
      "Epoch 1/20\n",
      "250/250 [==============================] - 494s 2s/step - loss: 1.6278 - categorical_accuracy: 0.4337 - val_loss: 1.1281 - val_categorical_accuracy: 0.6875\n",
      "Epoch 2/20\n",
      "250/250 [==============================] - 500s 2s/step - loss: 1.0344 - categorical_accuracy: 0.6745 - val_loss: 0.6391 - val_categorical_accuracy: 0.7812\n",
      "Epoch 3/20\n",
      "250/250 [==============================] - 501s 2s/step - loss: 0.7755 - categorical_accuracy: 0.7570 - val_loss: 0.5201 - val_categorical_accuracy: 0.8263\n",
      "Epoch 4/20\n",
      "250/250 [==============================] - 494s 2s/step - loss: 0.6671 - categorical_accuracy: 0.7945 - val_loss: 0.5530 - val_categorical_accuracy: 0.8281\n",
      "Epoch 5/20\n",
      "250/250 [==============================] - 492s 2s/step - loss: 0.5852 - categorical_accuracy: 0.8128 - val_loss: 0.5083 - val_categorical_accuracy: 0.8431\n",
      "Epoch 6/20\n",
      "250/250 [==============================] - 513s 2s/step - loss: 0.4994 - categorical_accuracy: 0.8347 - val_loss: 0.4565 - val_categorical_accuracy: 0.8706\n",
      "Epoch 7/20\n",
      "250/250 [==============================] - 523s 2s/step - loss: 0.4419 - categorical_accuracy: 0.8568 - val_loss: 0.3593 - val_categorical_accuracy: 0.8856\n",
      "Epoch 8/20\n",
      "250/250 [==============================] - 513s 2s/step - loss: 0.4163 - categorical_accuracy: 0.8630 - val_loss: 0.3741 - val_categorical_accuracy: 0.8869\n",
      "Epoch 9/20\n",
      "250/250 [==============================] - 488s 2s/step - loss: 0.4144 - categorical_accuracy: 0.8668 - val_loss: 0.2899 - val_categorical_accuracy: 0.9175\n",
      "Epoch 10/20\n",
      "250/250 [==============================] - 496s 2s/step - loss: 0.3539 - categorical_accuracy: 0.8888 - val_loss: 0.3223 - val_categorical_accuracy: 0.9050\n",
      "Epoch 11/20\n",
      "250/250 [==============================] - 494s 2s/step - loss: 0.3611 - categorical_accuracy: 0.8828 - val_loss: 0.3125 - val_categorical_accuracy: 0.9087\n",
      "Epoch 12/20\n",
      "250/250 [==============================] - 506s 2s/step - loss: 0.3205 - categorical_accuracy: 0.8915 - val_loss: 0.3116 - val_categorical_accuracy: 0.9044\n",
      "Epoch 13/20\n",
      "250/250 [==============================] - 539s 2s/step - loss: 0.3097 - categorical_accuracy: 0.8965 - val_loss: 0.2534 - val_categorical_accuracy: 0.9200\n",
      "Epoch 14/20\n",
      "250/250 [==============================] - 501s 2s/step - loss: 0.2616 - categorical_accuracy: 0.9182 - val_loss: 0.2679 - val_categorical_accuracy: 0.9244\n",
      "Epoch 15/20\n",
      "250/250 [==============================] - 521s 2s/step - loss: 0.2706 - categorical_accuracy: 0.9117 - val_loss: 0.3214 - val_categorical_accuracy: 0.9069\n",
      "Epoch 16/20\n",
      "250/250 [==============================] - 600s 2s/step - loss: 0.2575 - categorical_accuracy: 0.9103 - val_loss: 0.2595 - val_categorical_accuracy: 0.9325\n",
      "Epoch 17/20\n",
      "250/250 [==============================] - 1409s 6s/step - loss: 0.2464 - categorical_accuracy: 0.9185 - val_loss: 0.3022 - val_categorical_accuracy: 0.9281\n",
      "Epoch 18/20\n",
      "250/250 [==============================] - 540s 2s/step - loss: 0.2228 - categorical_accuracy: 0.9210 - val_loss: 0.2527 - val_categorical_accuracy: 0.9369\n",
      "Epoch 19/20\n",
      "250/250 [==============================] - 539s 2s/step - loss: 0.2387 - categorical_accuracy: 0.9207 - val_loss: 0.2687 - val_categorical_accuracy: 0.9356\n",
      "Epoch 20/20\n",
      "250/250 [==============================] - 525s 2s/step - loss: 0.2352 - categorical_accuracy: 0.9205 - val_loss: 0.2856 - val_categorical_accuracy: 0.9194\n"
     ]
    },
    {
     "data": {
      "text/plain": [
       "<keras.callbacks.History at 0x7ff0e9239400>"
      ]
     },
     "execution_count": 11,
     "metadata": {},
     "output_type": "execute_result"
    }
   ],
   "source": [
    "model.fit_generator(\n",
    "    train_generator,\n",
    "    steps_per_epoch = 250,\n",
    "    epochs = 20,\n",
    "    validation_data = validation_generator,\n",
    "    validation_steps = 100\n",
    "    )"
   ]
  },
  {
   "cell_type": "code",
   "execution_count": 12,
   "metadata": {},
   "outputs": [],
   "source": [
    "model.save('model1.h5')"
   ]
  },
  {
   "cell_type": "code",
   "execution_count": 13,
   "metadata": {},
   "outputs": [
    {
     "name": "stdout",
     "output_type": "stream",
     "text": [
      "{'bed': 0, 'chair': 1, 'lamp': 2, 'shelf': 3, 'sofa': 4, 'stool': 5, 'table': 6, 'wardrobe': 7}\n"
     ]
    }
   ],
   "source": [
    "print(train_generator.class_indices)"
   ]
  },
  {
   "cell_type": "code",
   "execution_count": null,
   "metadata": {},
   "outputs": [],
   "source": []
  }
 ],
 "metadata": {
  "kernelspec": {
   "display_name": "Python 3",
   "language": "python",
   "name": "python3"
  },
  "language_info": {
   "codemirror_mode": {
    "name": "ipython",
    "version": 3
   },
   "file_extension": ".py",
   "mimetype": "text/x-python",
   "name": "python",
   "nbconvert_exporter": "python",
   "pygments_lexer": "ipython3",
   "version": "3.6.4"
  }
 },
 "nbformat": 4,
 "nbformat_minor": 2
}
